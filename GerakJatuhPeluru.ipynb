{
  "nbformat": 4,
  "nbformat_minor": 0,
  "metadata": {
    "colab": {
      "provenance": [],
      "authorship_tag": "ABX9TyPiNlSsevKUWoekrbsjsCBr"
    },
    "kernelspec": {
      "name": "python3",
      "display_name": "Python 3"
    },
    "language_info": {
      "name": "python"
    }
  },
  "cells": [
    {
      "cell_type": "code",
      "execution_count": null,
      "metadata": {
        "id": "47NJUvFAy-hk"
      },
      "outputs": [],
      "source": [
        "%matplotlib notebook\n",
        "import numpy as np\n",
        "import matplotlib.pyplot as plt\n",
        "import matplotlib.animation as animation"
      ]
    },
    {
      "cell_type": "code",
      "source": [
        "g = 9.8\n",
        "\n",
        "def horiz_dist(v0,t,deg):\n",
        "  rad = np.radians(deg)\n",
        "  v_horiz = v0 * np.cos(rad)\n",
        "  dist = v_horiz * t\n",
        "  return dist\n",
        "\n",
        "def vert_dist(v0,t,deg):\n",
        "  rad = np.radians(deg)\n",
        "  v_vert = v0 * np.sin(rad)\n",
        "  h = v_vert * t - (0.5 * g * t * t)\n",
        "  if h >= 0:\n",
        "    return h\n",
        "  else:\n",
        "    return 0\n",
        "\n",
        "def ground_t(v0,deg):\n",
        "  rad = np.radians(deg)\n",
        "  v_vert = v0 * np.sin(rad)\n",
        "  t = 2 * v_vert / g\n",
        "  return t\n",
        "\n",
        "vec_hdist = np.vectorize(horiz_dist)\n",
        "vec_vdist = np.vectorize(vert_dist)"
      ],
      "metadata": {
        "id": "GoCJuL4wzQt8"
      },
      "execution_count": null,
      "outputs": []
    },
    {
      "cell_type": "code",
      "source": [
        "v0 = 100\n",
        "deg = 60\n",
        "dlt = 0.1\n",
        "t_ground = ground_t(v0,deg)\n",
        "t_steps = np.arange(0,t_ground+dlt,dlt)\n",
        "s_l = vec_hdist(v0,t_steps,deg)\n",
        "h_l = vec_vdist(v0,t_steps,deg)\n",
        "s_max = max(s_l) + 0.10 * (max(s_l))\n",
        "h_max = max(h_l) + 0.10 * (max(h_l))"
      ],
      "metadata": {
        "id": "Ge7Eix_ezRVz"
      },
      "execution_count": null,
      "outputs": []
    },
    {
      "cell_type": "code",
      "source": [
        "fig, ax = plt.subplots()\n",
        "plt.gca().set_aspect(\"equal\")\n",
        "plt.title('Gerak peluru dengan kecepatan {} m/s dan sudut {} derajat \\n'.format(v0,deg)) # judul grafik\n",
        "plt.xlabel('Jarak tempuh horizontal (m)')\n",
        "plt.ylabel('Ketinggian (m)')\n",
        "plt.grid(True, which='both') # tampilkan grid/kotak-kotak\n",
        "\n",
        "\n",
        "line, = ax.plot(s_l, h_l, color='g')\n",
        "\n",
        "def update(num, s_l, h_l, line):\n",
        "    line.set_data(s_l[:num], h_l[:num])\n",
        "    line.axes.axis([0, s_max, 0, h_max])\n",
        "    return line,\n",
        "\n",
        "ani = animation.FuncAnimation(fig, update, fargs=[s_l, h_l, line],interval=3)\n",
        "ani.save('anim/projectile.gif', writer='imagemagick', fps=30)\n"
      ],
      "metadata": {
        "colab": {
          "base_uri": "https://localhost:8080/",
          "height": 560
        },
        "id": "RWRq8_IuzTm3",
        "outputId": "b959c7e0-8f5a-46dc-c4e0-9ed742a29ba5"
      },
      "execution_count": null,
      "outputs": [
        {
          "output_type": "stream",
          "name": "stderr",
          "text": [
            "MovieWriter imagemagick unavailable; trying to use pillow instead.\n"
          ]
        },
        {
          "output_type": "error",
          "ename": "TypeError",
          "evalue": "ignored",
          "traceback": [
            "\u001b[0;31m---------------------------------------------------------------------------\u001b[0m",
            "\u001b[0;31mTypeError\u001b[0m                                 Traceback (most recent call last)",
            "\u001b[0;32m<ipython-input-6-1c3cd31ce8be>\u001b[0m in \u001b[0;36m<module>\u001b[0;34m()\u001b[0m\n\u001b[1;32m     15\u001b[0m \u001b[0;34m\u001b[0m\u001b[0m\n\u001b[1;32m     16\u001b[0m \u001b[0mani\u001b[0m \u001b[0;34m=\u001b[0m \u001b[0manimation\u001b[0m\u001b[0;34m.\u001b[0m\u001b[0mFuncAnimation\u001b[0m\u001b[0;34m(\u001b[0m\u001b[0mfig\u001b[0m\u001b[0;34m,\u001b[0m \u001b[0mupdate\u001b[0m\u001b[0;34m,\u001b[0m \u001b[0mfargs\u001b[0m\u001b[0;34m=\u001b[0m\u001b[0;34m[\u001b[0m\u001b[0ms_l\u001b[0m\u001b[0;34m,\u001b[0m \u001b[0mh_l\u001b[0m\u001b[0;34m,\u001b[0m \u001b[0mline\u001b[0m\u001b[0;34m]\u001b[0m\u001b[0;34m,\u001b[0m\u001b[0minterval\u001b[0m\u001b[0;34m=\u001b[0m\u001b[0;36m3\u001b[0m\u001b[0;34m)\u001b[0m\u001b[0;34m\u001b[0m\u001b[0;34m\u001b[0m\u001b[0m\n\u001b[0;32m---> 17\u001b[0;31m \u001b[0mani\u001b[0m\u001b[0;34m.\u001b[0m\u001b[0msave\u001b[0m\u001b[0;34m(\u001b[0m\u001b[0;34m'anim/projectile.gif'\u001b[0m\u001b[0;34m,\u001b[0m \u001b[0mwriter\u001b[0m\u001b[0;34m=\u001b[0m\u001b[0;34m'imagemagick'\u001b[0m\u001b[0;34m,\u001b[0m \u001b[0mfps\u001b[0m\u001b[0;34m=\u001b[0m\u001b[0;36m30\u001b[0m\u001b[0;34m)\u001b[0m\u001b[0;34m\u001b[0m\u001b[0;34m\u001b[0m\u001b[0m\n\u001b[0m",
            "\u001b[0;32m/usr/local/lib/python3.7/dist-packages/matplotlib/animation.py\u001b[0m in \u001b[0;36msave\u001b[0;34m(self, filename, writer, fps, dpi, codec, bitrate, extra_args, metadata, extra_anim, savefig_kwargs, progress_callback)\u001b[0m\n\u001b[1;32m   1109\u001b[0m                 writer = alt_writer(\n\u001b[1;32m   1110\u001b[0m                     \u001b[0mfps\u001b[0m\u001b[0;34m,\u001b[0m \u001b[0mcodec\u001b[0m\u001b[0;34m,\u001b[0m \u001b[0mbitrate\u001b[0m\u001b[0;34m,\u001b[0m\u001b[0;34m\u001b[0m\u001b[0;34m\u001b[0m\u001b[0m\n\u001b[0;32m-> 1111\u001b[0;31m                     extra_args=extra_args, metadata=metadata)\n\u001b[0m\u001b[1;32m   1112\u001b[0m         \u001b[0m_log\u001b[0m\u001b[0;34m.\u001b[0m\u001b[0minfo\u001b[0m\u001b[0;34m(\u001b[0m\u001b[0;34m'Animation.save using %s'\u001b[0m\u001b[0;34m,\u001b[0m \u001b[0mtype\u001b[0m\u001b[0;34m(\u001b[0m\u001b[0mwriter\u001b[0m\u001b[0;34m)\u001b[0m\u001b[0;34m)\u001b[0m\u001b[0;34m\u001b[0m\u001b[0;34m\u001b[0m\u001b[0m\n\u001b[1;32m   1113\u001b[0m \u001b[0;34m\u001b[0m\u001b[0m\n",
            "\u001b[0;31mTypeError\u001b[0m: 'str' object is not callable"
          ]
        },
        {
          "output_type": "display_data",
          "data": {
            "text/plain": [
              "<Figure size 432x288 with 1 Axes>"
            ],
            "image/png": "[encoded data removed]"
          },
          "metadata": {
            "needs_background": "light"
          }
        }
      ]
    }
  ]
}